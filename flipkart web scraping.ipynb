{
 "cells": [
  {
   "cell_type": "code",
   "execution_count": 1,
   "id": "4d9cb67b",
   "metadata": {},
   "outputs": [],
   "source": [
    "from bs4 import BeautifulSoup\n",
    "import requests\n",
    "import pandas as pd\n",
    "import numpy as np\n",
    "\n",
    "Product_name=[]\n",
    "Prices=[]\n",
    "Description= []\n",
    "\n"
   ]
  },
  {
   "cell_type": "code",
   "execution_count": 2,
   "id": "8502db0a",
   "metadata": {},
   "outputs": [],
   "source": [
    "for i in range(2,12):\n",
    "\n",
    "    url = \"https://www.flipkart.com/search?q=mobiles+under+20000&otracker=search&otracker1=search&marketplace=FLIPKART&as-show=on&as=off&as-pos=1&as-type=HISTORY&page=\"+str(i)\n",
    "    r = requests.get(url)\n",
    "    soup = BeautifulSoup(r.text, 'lxml')\n",
    "\n",
    "    names = soup.find_all(\"div\", class_ = \"_4rR01T\")\n",
    "\n",
    "    for i in names:\n",
    "        name = i.text\n",
    "        Product_name.append(name)  \n",
    "    #print(Product_name)\n",
    "\n",
    "    prices = soup.find_all(\"div\",class_ = \"_30jeq3 _1_WHN1\")\n",
    "\n",
    "    for i in prices:\n",
    "        name = i.text\n",
    "        Prices.append(name)\n",
    "    #print(Prices)\n",
    "\n",
    "    description = soup.find_all(\"ul\",class_ = \"_1xgFaf\" )\n",
    "\n",
    "    for i in description:\n",
    "        name = i.text\n",
    "        Description.append(name)\n",
    "    #print(Description)\n",
    "\n",
    "df = pd.DataFrame({\"Product_name\":Product_name, \"Prices\":Prices, \"Description\":Description})\n",
    "#print(df)\n",
    "\n",
    "df.to_csv(\"flipkart.csv\")"
   ]
  },
  {
   "cell_type": "code",
   "execution_count": null,
   "id": "37827156",
   "metadata": {},
   "outputs": [],
   "source": []
  }
 ],
 "metadata": {
  "kernelspec": {
   "display_name": "Python 3 (ipykernel)",
   "language": "python",
   "name": "python3"
  },
  "language_info": {
   "codemirror_mode": {
    "name": "ipython",
    "version": 3
   },
   "file_extension": ".py",
   "mimetype": "text/x-python",
   "name": "python",
   "nbconvert_exporter": "python",
   "pygments_lexer": "ipython3",
   "version": "3.9.7"
  }
 },
 "nbformat": 4,
 "nbformat_minor": 5
}
